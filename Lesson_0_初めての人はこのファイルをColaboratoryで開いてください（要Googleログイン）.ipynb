{
  "nbformat": 4,
  "nbformat_minor": 0,
  "metadata": {
    "colab": {
      "name": "Lesson 0: 初めての人はこのファイルをColaboratoryで開いてください（要Googleログイン）",
      "provenance": [],
      "collapsed_sections": [],
      "authorship_tag": "ABX9TyOhzXQmwRLVdRea+nfU5MGv",
      "include_colab_link": true
    },
    "kernelspec": {
      "name": "python3",
      "display_name": "Python 3"
    }
  },
  "cells": [
    {
      "cell_type": "markdown",
      "metadata": {
        "id": "view-in-github",
        "colab_type": "text"
      },
      "source": [
        "<a href=\"https://colab.research.google.com/github/HailMoisten/Scripts/blob/master/Lesson_0_%E5%88%9D%E3%82%81%E3%81%A6%E3%81%AE%E4%BA%BA%E3%81%AF%E3%81%93%E3%81%AE%E3%83%95%E3%82%A1%E3%82%A4%E3%83%AB%E3%82%92Colaboratory%E3%81%A7%E9%96%8B%E3%81%84%E3%81%A6%E3%81%8F%E3%81%A0%E3%81%95%E3%81%84%EF%BC%88%E8%A6%81Google%E3%83%AD%E3%82%B0%E3%82%A4%E3%83%B3%EF%BC%89.ipynb\" target=\"_parent\"><img src=\"https://colab.research.google.com/assets/colab-badge.svg\" alt=\"Open In Colab\"/></a>"
      ]
    },
    {
      "cell_type": "markdown",
      "metadata": {
        "id": "RwoccvdriuHe",
        "colab_type": "text"
      },
      "source": [
        "このファイルはSのGoogle ドライブ上にある読み取り専用共有ファイルです。\n",
        "\n",
        "このファイルに追記していく場合は下記の操作で自分のドライブにコピーしてください。\n",
        "> 「ファイル」 → 「ドライブにコピーを保存」であなたのドライブにコピー\n",
        "\n",
        "あなたのGoogle ドライブのルートにGoogle Colabフォルダが作成され、その中にファイルがコピーされます。"
      ]
    },
    {
      "cell_type": "markdown",
      "metadata": {
        "id": "CBoYZTWl4PaJ",
        "colab_type": "text"
      },
      "source": [
        "# Google Colabotatoryについて\n",
        "\n",
        "Google Colaboratoryはブラウザ上でPythonを動かせるWebサイトです。\n",
        "\n",
        "ここで扱うファイルの拡張子は主に「.ipynb」で、テキストブロックとコードブロックによって構成されます。\n",
        "\n",
        "このエリアはテキストブロックで、左上の「+テキスト」から追加できます。\n",
        "\n",
        "ダブルクリックで編集モードになり、左側にプレーンテキスト、右側にMarkdownの出力が表示されます。\n",
        "\n",
        "Markdownは素晴らしい記法です。時間のある時に勉強しておいてください。\n",
        "\n",
        "cf. [メモ書きやドキュメント作成に便利な「Markdown記法」を使ってみよう : ビジネスとIT活用に役立つ情報](https://www.asobou.co.jp/blog/bussiness/markdown)"
      ]
    },
    {
      "cell_type": "code",
      "metadata": {
        "id": "vp01FIbI4Ley",
        "colab_type": "code",
        "colab": {}
      },
      "source": [
        "# この[ ]で始まる灰色のエリアがコードブロックです。左上の「+コード」から追加できます。\n",
        "# 選択すると編集モードになります。再生ボタンのクリックやCtrl+Enterでブロック内のコードを実行できます。\n",
        "from numpy import random\n",
        "fortune = numpy.random.randint(0,21+1)\n",
        "print('Today\\'s fortune is',fortune,'.')\n",
        "if fortune == 0:\n",
        "  print('Have a nice day!')"
      ],
      "execution_count": 0,
      "outputs": []
    },
    {
      "cell_type": "markdown",
      "metadata": {
        "id": "Uc9q68sV-DM0",
        "colab_type": "text"
      },
      "source": [
        "> 詳しいことは「Google Colaboratoryへようこそ」を読みましょう。\n",
        "\n",
        "---\n"
      ]
    },
    {
      "cell_type": "markdown",
      "metadata": {
        "id": "pagQxhNG4GxB",
        "colab_type": "text"
      },
      "source": [
        "この下からはダブルアップゲームの作成課題が載っています。Level毎に、要件を満たすコードを書いてみましょう。\n",
        "\n",
        "このファイルを自分のドライブにコピーしたのなら、すぐ下の空コードブロックにコードを書きましょう。\n",
        "\n",
        "ごちゃごちゃしていて書き辛いと感じるなら、下記の操作で別タブに新しいノートブックを作り、そこに書いていきましょう。Level毎にコードブロックを新しくしてくださいね。\n",
        "\n",
        "> 「ファイル」 → 「Python 3の新しいノートブック」で真っ白のノートブックを作成\n",
        "\n",
        "---"
      ]
    },
    {
      "cell_type": "code",
      "metadata": {
        "id": "Nsq6DvPD-rIC",
        "colab_type": "code",
        "outputId": "8f68977c-d5a4-4b82-8390-2810c0451890",
        "colab": {
          "base_uri": "https://localhost:8080/",
          "height": 85
        }
      },
      "source": [
        "text = ('閑','話','休','題')\n",
        "for i in range(4):\n",
        "  luck = numpy.random.randint(1,4+1)\n",
        "  print(text[int(luck)-1])"
      ],
      "execution_count": 0,
      "outputs": [
        {
          "output_type": "stream",
          "text": [
            "閑\n",
            "話\n",
            "閑\n",
            "題\n"
          ],
          "name": "stdout"
        }
      ]
    }
  ]
}